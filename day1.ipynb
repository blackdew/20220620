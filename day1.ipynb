{
  "nbformat": 4,
  "nbformat_minor": 0,
  "metadata": {
    "colab": {
      "name": "day1.ipynb",
      "provenance": [],
      "collapsed_sections": []
    },
    "kernelspec": {
      "name": "python3",
      "display_name": "Python 3"
    },
    "language_info": {
      "name": "python"
    },
    "accelerator": "GPU",
    "gpuClass": "standard"
  },
  "cells": [
    {
      "cell_type": "code",
      "execution_count": null,
      "metadata": {
        "id": "slkDcJIHhdrw"
      },
      "outputs": [],
      "source": [
        "print(\"hello, colaboratory\")"
      ]
    },
    {
      "cell_type": "code",
      "source": [
        "import pandas as pd\n",
        "url = \"https://raw.githubusercontent.com/blackdew/ml-tensorflow/master/data/csv/lemonade.csv\"\n",
        "레모네이드 = pd.read_csv(url)\n",
        "레모네이드"
      ],
      "metadata": {
        "id": "aLuZZOm3qQRr"
      },
      "execution_count": null,
      "outputs": []
    },
    {
      "cell_type": "code",
      "source": [
        "import pandas as pd\n",
        "url = \"https://raw.githubusercontent.com/blackdew/ml-tensorflow/master/data/csv/boston.csv\"\n",
        "보스턴 = pd.read_csv(url)\n",
        "보스턴"
      ],
      "metadata": {
        "id": "Fx3dw7hqqRxj"
      },
      "execution_count": null,
      "outputs": []
    },
    {
      "cell_type": "code",
      "source": [
        "import pandas as pd\n",
        "url = \"https://raw.githubusercontent.com/blackdew/ml-tensorflow/master/data/csv/iris.csv\"\n",
        "아이리스 = pd.read_csv(url)\n",
        "아이리스"
      ],
      "metadata": {
        "id": "C9FVMhrVs5ZE"
      },
      "execution_count": null,
      "outputs": []
    },
    {
      "cell_type": "markdown",
      "source": [
        "# 레모네이드 판매 예측"
      ],
      "metadata": {
        "id": "0xpNC1NivTaV"
      }
    },
    {
      "cell_type": "code",
      "source": [
        "import tensorflow as tf\n",
        "import pandas as pd"
      ],
      "metadata": {
        "id": "Elr8FoA-tAQm"
      },
      "execution_count": null,
      "outputs": []
    },
    {
      "cell_type": "code",
      "source": [
        "import pandas as pd\n",
        "url = \"https://raw.githubusercontent.com/blackdew/ml-tensorflow/master/data/csv/lemonade.csv\"\n",
        "레모네이드 = pd.read_csv(url)\n",
        "독립 = 레모네이드[[\"온도\"]]\n",
        "종속 = 레모네이드[[\"판매량\"]]"
      ],
      "metadata": {
        "id": "KZi5n-NOvSFt"
      },
      "execution_count": null,
      "outputs": []
    },
    {
      "cell_type": "code",
      "source": [
        "X = tf.keras.Input(shape=[1])\n",
        "Y = tf.keras.layers.Dense(1)(X)\n",
        "model = tf.keras.Model(X, Y)\n",
        "model.compile(loss=\"mse\")\n",
        "model.summary()"
      ],
      "metadata": {
        "id": "fvAuu2MvvZHE"
      },
      "execution_count": null,
      "outputs": []
    },
    {
      "cell_type": "code",
      "source": [
        "model.fit(독립, 종속, epochs=1000, verbose=0)\n",
        "model.fit(독립, 종속, epochs=10)"
      ],
      "metadata": {
        "id": "Tznb4iQkvnaV"
      },
      "execution_count": null,
      "outputs": []
    },
    {
      "cell_type": "code",
      "source": [
        "model.predict([[15],\n",
        "               [25],\n",
        "               [35]])"
      ],
      "metadata": {
        "id": "B_2caQqKvy2-"
      },
      "execution_count": null,
      "outputs": []
    },
    {
      "cell_type": "code",
      "source": [
        "model.get_weights()"
      ],
      "metadata": {
        "id": "ojKckG0dv3Ks"
      },
      "execution_count": null,
      "outputs": []
    },
    {
      "cell_type": "code",
      "source": [
        "온도 = 15\n",
        "판매량 = 1.9495019 * 온도 + 1.1542435\n",
        "판매량"
      ],
      "metadata": {
        "id": "GeMS1jBTxWdt"
      },
      "execution_count": null,
      "outputs": []
    },
    {
      "cell_type": "markdown",
      "source": [
        "# 보스턴 집값예측"
      ],
      "metadata": {
        "id": "xBkvphsK2Z0t"
      }
    },
    {
      "cell_type": "code",
      "source": [
        "import pandas as pd\n",
        "url = \"https://raw.githubusercontent.com/blackdew/ml-tensorflow/master/data/csv/boston.csv\"\n",
        "boston = pd.read_csv(url)\n",
        "print(boston.columns)\n",
        "print(boston.shape)\n",
        "\n",
        "x_train = boston[['crim', 'zn', 'indus', 'chas', 'nox', 'rm', 'age', 'dis', 'rad', 'tax',\n",
        "       'ptratio', 'b', 'lstat']]\n",
        "y_train = boston[['medv']]\n",
        "print(x_train.shape, y_train.shape)"
      ],
      "metadata": {
        "id": "QnFn_pNFxgk2"
      },
      "execution_count": null,
      "outputs": []
    },
    {
      "cell_type": "code",
      "source": [
        "X = tf.keras.Input(shape=[13])\n",
        "H = tf.keras.layers.Dense(5, activation=\"swish\")(X)\n",
        "H = tf.keras.layers.Dense(5, activation=\"swish\")(H)\n",
        "H = tf.keras.layers.Dense(5, activation=\"swish\")(H)\n",
        "Y = tf.keras.layers.Dense(1)(H)\n",
        "model = tf.keras.Model(X, Y)\n",
        "model.compile(loss=\"mse\")\n",
        "model.summary()"
      ],
      "metadata": {
        "id": "1zefapnV2XlW"
      },
      "execution_count": null,
      "outputs": []
    },
    {
      "cell_type": "code",
      "source": [
        "model.fit(x_train, y_train, epochs=1000, verbose=0)\n",
        "model.fit(x_train, y_train, epochs=10)"
      ],
      "metadata": {
        "id": "9dJPNhd32YJ1"
      },
      "execution_count": null,
      "outputs": []
    },
    {
      "cell_type": "markdown",
      "source": [
        "# 아이리스 품종 분류"
      ],
      "metadata": {
        "id": "JBDWWr1VOV6n"
      }
    },
    {
      "cell_type": "code",
      "source": [
        "import pandas as pd\n",
        "url = \"https://raw.githubusercontent.com/blackdew/ml-tensorflow/master/data/csv/iris.csv\"\n",
        "iris = pd.read_csv(url)\n",
        "iris = pd.get_dummies(iris)\n",
        "print(iris.columns)\n",
        "print(iris.shape)\n",
        "\n",
        "x_train = iris[['꽃잎길이', '꽃잎폭', '꽃받침길이', '꽃받침폭']]\n",
        "y_train = iris[[ '품종_setosa', '품종_versicolor', '품종_virginica']]\n",
        "print(x_train.shape, y_train.shape)\n",
        "iris.head()\n"
      ],
      "metadata": {
        "id": "tmleK55V3AUd"
      },
      "execution_count": null,
      "outputs": []
    },
    {
      "cell_type": "code",
      "source": [
        "import tensorflow as tf\n",
        "X = tf.keras.Input(shape=[4])\n",
        "H = tf.keras.layers.Dense(5, activation=\"swish\")(X)\n",
        "H = tf.keras.layers.Dense(5, activation=\"swish\")(H)\n",
        "H = tf.keras.layers.Dense(5, activation=\"swish\")(H)\n",
        "Y = tf.keras.layers.Dense(3, activation=\"softmax\")(H)\n",
        "model = tf.keras.Model(X, Y)\n",
        "model.compile(loss=\"categorical_crossentropy\", metrics=\"accuracy\")\n",
        "model.summary()"
      ],
      "metadata": {
        "id": "WqwdUEYwOZix"
      },
      "execution_count": null,
      "outputs": []
    },
    {
      "cell_type": "code",
      "source": [
        "model.fit(x_train, y_train, epochs=100)"
      ],
      "metadata": {
        "id": "35_fmYZAPLwW"
      },
      "execution_count": null,
      "outputs": []
    },
    {
      "cell_type": "code",
      "source": [
        "import numpy as np\n",
        "\n",
        "d1 = np.array([1, 2, 3])\n",
        "print(d1.shape)"
      ],
      "metadata": {
        "id": "PBmWfWySPP3n"
      },
      "execution_count": null,
      "outputs": []
    },
    {
      "cell_type": "markdown",
      "source": [
        "# MNIST"
      ],
      "metadata": {
        "id": "-bx1yuCRi3Kp"
      }
    },
    {
      "cell_type": "code",
      "source": [
        "import tensorflow as tf\n",
        "import pandas as pd\n",
        "\n",
        "(x_train, y_train), (x_test, y_test) = tf.keras.datasets.mnist.load_data()\n",
        "y_train = pd.get_dummies(y_train)\n",
        "print(x_train.shape, y_train.shape)"
      ],
      "metadata": {
        "id": "X5nUPR5Mfs6Q"
      },
      "execution_count": null,
      "outputs": []
    },
    {
      "cell_type": "code",
      "source": [
        "X = tf.keras.Input(shape=[28, 28])\n",
        "H = tf.keras.layers.Flatten()(X)\n",
        "H = tf.keras.layers.Dense(84, activation=tf.keras.activations.swish)(H)\n",
        "Y = tf.keras.layers.Dense(10, activation=tf.keras.activations.softmax)(H)\n",
        "model = tf.keras.Model(X, Y)\n",
        "model.compile(loss=tf.keras.losses.categorical_crossentropy, metrics=tf.keras.metrics.categorical_accuracy)\n",
        "model.summary()"
      ],
      "metadata": {
        "id": "gu65ePXujVyZ"
      },
      "execution_count": null,
      "outputs": []
    },
    {
      "cell_type": "code",
      "source": [
        "model.fit(x_train, y_train, epochs=10)"
      ],
      "metadata": {
        "id": "pl4GziPlp9_y"
      },
      "execution_count": null,
      "outputs": []
    },
    {
      "cell_type": "code",
      "source": [
        "import matplotlib.pyplot as plt\n",
        "print(y_train[0])\n",
        "plt.imshow(x_train[0], cmap=\"gray\")\n",
        "plt.show()"
      ],
      "metadata": {
        "id": "VQGTATI3jD4x"
      },
      "execution_count": null,
      "outputs": []
    },
    {
      "cell_type": "code",
      "source": [
        "import tensorflow as tf\n",
        "import pandas as pd\n",
        "\n",
        "(x_train, y_train), (x_test, y_test) = tf.keras.datasets.mnist.load_data()\n",
        "x_train = x_train.reshape(-1, 28, 28, 1)\n",
        "x_test = x_test.reshape(-1, 28, 28, 1)\n",
        "y_train = pd.get_dummies(y_train)\n",
        "y_test = pd.get_dummies(y_test)\n",
        "print(x_train.shape, y_train.shape)\n",
        "print(x_test.shape, y_test.shape)"
      ],
      "metadata": {
        "id": "agzs1M9zqJ7B"
      },
      "execution_count": null,
      "outputs": []
    },
    {
      "cell_type": "code",
      "source": [
        "X = tf.keras.Input(shape=[28, 28, 1])\n",
        "H = tf.keras.layers.Conv2D(3, 5, activation=\"swish\")(X)\n",
        "H = tf.keras.layers.MaxPool2D()(H)\n",
        "H = tf.keras.layers.Conv2D(6, 5, activation=\"swish\")(H)\n",
        "H = tf.keras.layers.MaxPool2D()(H)\n",
        "H = tf.keras.layers.Flatten()(H)\n",
        "H = tf.keras.layers.Dense(84, activation=tf.keras.activations.swish)(H)\n",
        "Y = tf.keras.layers.Dense(10, activation=tf.keras.activations.softmax)(H)\n",
        "model = tf.keras.Model(X, Y)\n",
        "model.compile(loss=tf.keras.losses.categorical_crossentropy, metrics=tf.keras.metrics.categorical_accuracy)\n",
        "model.summary()"
      ],
      "metadata": {
        "id": "zXfdybggz5pa"
      },
      "execution_count": null,
      "outputs": []
    },
    {
      "cell_type": "code",
      "source": [
        "model.fit(x_train, y_train, batch_size=100, epochs=10, validation_split=0.2)"
      ],
      "metadata": {
        "id": "NUx3m58Z0LuJ"
      },
      "execution_count": null,
      "outputs": []
    },
    {
      "cell_type": "code",
      "source": [
        "model.evaluate(x_test, y_test)"
      ],
      "metadata": {
        "id": "w1QPwAaZ0SRx"
      },
      "execution_count": null,
      "outputs": []
    },
    {
      "cell_type": "markdown",
      "source": [
        "# LeNet-5"
      ],
      "metadata": {
        "id": "iObJYbtx9kgC"
      }
    },
    {
      "cell_type": "code",
      "source": [
        "import tensorflow as tf\n",
        "import pandas as pd\n",
        "\n",
        "(x_train, y_train), (x_test, y_test) = tf.keras.datasets.mnist.load_data()\n",
        "x_train = x_train.reshape(-1, 28, 28, 1)\n",
        "x_test = x_test.reshape(-1, 28, 28, 1)\n",
        "y_train = pd.get_dummies(y_train)\n",
        "y_test = pd.get_dummies(y_test)\n",
        "print(x_train.shape, y_train.shape)\n",
        "print(x_test.shape, y_test.shape)"
      ],
      "metadata": {
        "id": "L4vvay721rTh"
      },
      "execution_count": null,
      "outputs": []
    },
    {
      "cell_type": "code",
      "source": [
        "X = tf.keras.Input(shape=[28, 28, 1])\n",
        "H = tf.keras.layers.Conv2D(6, 5, padding=\"same\", activation=\"swish\")(X)\n",
        "H = tf.keras.layers.MaxPool2D()(H)\n",
        "H = tf.keras.layers.Conv2D(16, 5, activation=\"swish\")(H)\n",
        "H = tf.keras.layers.MaxPool2D()(H)\n",
        "H = tf.keras.layers.Flatten()(H)\n",
        "H = tf.keras.layers.Dense(120, activation=tf.keras.activations.swish)(H)\n",
        "H = tf.keras.layers.Dense(84, activation=tf.keras.activations.swish)(H)\n",
        "Y = tf.keras.layers.Dense(10, activation=tf.keras.activations.softmax)(H)\n",
        "model = tf.keras.Model(X, Y)\n",
        "model.compile(loss=tf.keras.losses.categorical_crossentropy, metrics=tf.keras.metrics.categorical_accuracy)\n",
        "model.summary()"
      ],
      "metadata": {
        "id": "eElPHg5K9pRJ"
      },
      "execution_count": null,
      "outputs": []
    },
    {
      "cell_type": "code",
      "source": [
        "model.fit(x_train, y_train, epochs=10, batch_size=128, validation_split=0.2)"
      ],
      "metadata": {
        "id": "10ctRgqI9vEC"
      },
      "execution_count": null,
      "outputs": []
    },
    {
      "cell_type": "code",
      "source": [
        "model.evaluate(x_test, y_test)"
      ],
      "metadata": {
        "id": "NsFbZxoE93i-"
      },
      "execution_count": null,
      "outputs": []
    },
    {
      "cell_type": "code",
      "source": [
        "import matplotlib.pyplot as plt\n",
        "n = 199\n",
        "print(y_test.values[n])\n",
        "print(model.predict(x_test[n:n+1]))\n",
        "plt.imshow(x_test[n].reshape(28, 28), cmap=\"gray\")\n",
        "plt.show()"
      ],
      "metadata": {
        "id": "DCmsOnB9956O"
      },
      "execution_count": null,
      "outputs": []
    },
    {
      "cell_type": "markdown",
      "source": [
        ""
      ],
      "metadata": {
        "id": "5mJr_V6V-x_i"
      }
    }
  ]
}